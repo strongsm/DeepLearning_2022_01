{
  "nbformat": 4,
  "nbformat_minor": 0,
  "metadata": {
    "colab": {
      "name": "11.Fashion-MNIST-CNN.ipynb",
      "provenance": [],
      "collapsed_sections": []
    },
    "kernelspec": {
      "name": "python3",
      "display_name": "Python 3"
    },
    "language_info": {
      "name": "python"
    },
    "accelerator": "GPU"
  },
  "cells": [
    {
      "cell_type": "markdown",
      "source": [
        "# Fashion MNIST - CNN\n",
        "- 32 Conv20 layer\n",
        "- 64 Conv20 layer\n",
        "- MaxPooling20 layer\n",
        "- Dropout(0.25)\n",
        "- Fully Connected Network(512) layer\n",
        "- Dropout(0.5)\n",
        "-Output(10)"
      ],
      "metadata": {
        "id": "ANYkUNil6uoy"
      }
    },
    {
      "cell_type": "code",
      "execution_count": 20,
      "metadata": {
        "id": "heTffuzo6t8E"
      },
      "outputs": [],
      "source": [
        "import numpy as np\n",
        "import tensorflow as tf\n",
        "seed = 2022\n",
        "np.random.seed(seed)\n",
        "tf.random.set_seed(seed)"
      ]
    },
    {
      "cell_type": "markdown",
      "source": [
        "- 데이터 전처리"
      ],
      "metadata": {
        "id": "N2ldVVgo7Pmm"
      }
    },
    {
      "cell_type": "code",
      "source": [
        "from tensorflow.keras.datasets import fashion_mnist\n",
        "(X_train, y_train), (X_test, y_test) = fashion_mnist.load_data()"
      ],
      "metadata": {
        "id": "p03aWzW67NrY"
      },
      "execution_count": 21,
      "outputs": []
    },
    {
      "cell_type": "code",
      "source": [
        "import matplotlib.pyplot as plt\n",
        "\n",
        "plt.imshow(X_train[0], cmap='Greys');"
      ],
      "metadata": {
        "colab": {
          "base_uri": "https://localhost:8080/",
          "height": 265
        },
        "id": "4X-_-uxN7jJj",
        "outputId": "1ea625db-3c91-4150-b225-eb9218d9e1a8"
      },
      "execution_count": 22,
      "outputs": [
        {
          "output_type": "display_data",
          "data": {
            "image/png": "[encoded data removed]",
            "text/plain": [
              "<Figure size 432x288 with 1 Axes>"
            ]
          },
          "metadata": {
            "needs_background": "light"
          }
        }
      ]
    },
    {
      "cell_type": "code",
      "source": [
        "class_names = ['T-shirt/top', 'Trouser', 'Pullover', 'Dress', 'Coat',\n",
        "               'Sandal', 'Shirt', 'Sneaker', 'Bag', 'Ankle boot']\n",
        "class_names[y_train[0]]"
      ],
      "metadata": {
        "colab": {
          "base_uri": "https://localhost:8080/",
          "height": 36
        },
        "id": "IU5Oeuho8NH0",
        "outputId": "635db3bd-5f3b-4379-93f5-347ca386171c"
      },
      "execution_count": 23,
      "outputs": [
        {
          "output_type": "execute_result",
          "data": {
            "application/vnd.google.colaboratory.intrinsic+json": {
              "type": "string"
            },
            "text/plain": [
              "'Ankle boot'"
            ]
          },
          "metadata": {},
          "execution_count": 23
        }
      ]
    },
    {
      "cell_type": "code",
      "source": [
        "plt.figure(figsize=(13,5))\n",
        "for i in range(10):\n",
        "    plt.subplot(2, 5, i+1)\n",
        "    plt.imshow(X_train[i], cmap='Greys')\n",
        "    plt.title(class_names[y_train[i]])\n",
        "    plt.xticks([]); plt.yticks([])\n",
        "plt.show()"
      ],
      "metadata": {
        "colab": {
          "base_uri": "https://localhost:8080/",
          "height": 282
        },
        "id": "wHkz4Cka8bDG",
        "outputId": "7a5d67a7-7f8e-41c8-8bf5-07669ce41d80"
      },
      "execution_count": 24,
      "outputs": [
        {
          "output_type": "display_data",
          "data": {
            "image/png": "[encoded data removed]",
            "text/plain": [
              "<Figure size 936x360 with 10 Axes>"
            ]
          },
          "metadata": {}
        }
      ]
    },
    {
      "cell_type": "code",
      "source": [
        "X_train.shape, X_test.shape"
      ],
      "metadata": {
        "colab": {
          "base_uri": "https://localhost:8080/"
        },
        "id": "w6lMHTKb9FEt",
        "outputId": "2e3a425e-50c8-4e06-ebd6-b4ea57dcd5ce"
      },
      "execution_count": 25,
      "outputs": [
        {
          "output_type": "execute_result",
          "data": {
            "text/plain": [
              "((60000, 28, 28), (10000, 28, 28))"
            ]
          },
          "metadata": {},
          "execution_count": 25
        }
      ]
    },
    {
      "cell_type": "code",
      "source": [
        "# X data 정규화 및 차원 변경\n",
        "X_train = X_train.reshape(-1, 28, 28, 1) / 255. \n",
        "X_test = X_test.reshape(-1, 28, 28, 1) / 255."
      ],
      "metadata": {
        "id": "6P-pPz-49k1k"
      },
      "execution_count": 26,
      "outputs": []
    },
    {
      "cell_type": "code",
      "source": [
        "# y data : one-hot encoding\n",
        "from tensorflow.keras.utils import to_categorical\n",
        "Y_train = to_categorical(y_train)\n",
        "Y_test = to_categorical(y_test)"
      ],
      "metadata": {
        "id": "CzWksnED-b0S"
      },
      "execution_count": 27,
      "outputs": []
    },
    {
      "cell_type": "markdown",
      "source": [
        "- 모델 정의, 설정, 학습, 평가"
      ],
      "metadata": {
        "id": "AX6pbjpNEro4"
      }
    },
    {
      "cell_type": "code",
      "source": [
        "from tensorflow.keras.models import Sequential, load_model\n",
        "from tensorflow.keras.layers import Dense, Conv2D, MaxPooling2D, Flatten, Dropout\n",
        "from tensorflow.keras.callbacks import ModelCheckpoint, EarlyStopping"
      ],
      "metadata": {
        "id": "TSJqF2_D-rZi"
      },
      "execution_count": 28,
      "outputs": []
    },
    {
      "cell_type": "code",
      "source": [
        "model = Sequential([ \n",
        "    Conv2D(32, (3,3), input_shape=(28,28,1), activation='relu'),\n",
        "    Conv2D(64, (3,3), activation='relu'),\n",
        "    MaxPooling2D(),\n",
        "    Dropout(0.25),\n",
        "    Flatten(),\n",
        "    Dense(512, activation='relu'),\n",
        "    Dropout(0.5),\n",
        "    Dense(10, activation='softmax')\n",
        "])\n",
        "model.summary()"
      ],
      "metadata": {
        "colab": {
          "base_uri": "https://localhost:8080/"
        },
        "id": "0-r-MgFz_TVa",
        "outputId": "0a1113d2-72f9-447d-bc58-6b15c63f7cea"
      },
      "execution_count": 29,
      "outputs": [
        {
          "output_type": "stream",
          "name": "stdout",
          "text": [
            "Model: \"sequential_1\"\n",
            "_________________________________________________________________\n",
            " Layer (type)                Output Shape              Param #   \n",
            "=================================================================\n",
            " conv2d_2 (Conv2D)           (None, 26, 26, 32)        320       \n",
            "                                                                 \n",
            " conv2d_3 (Conv2D)           (None, 24, 24, 64)        18496     \n",
            "                                                                 \n",
            " max_pooling2d_1 (MaxPooling  (None, 12, 12, 64)       0         \n",
            " 2D)                                                             \n",
            "                                                                 \n",
            " dropout_2 (Dropout)         (None, 12, 12, 64)        0         \n",
            "                                                                 \n",
            " flatten_1 (Flatten)         (None, 9216)              0         \n",
            "                                                                 \n",
            " dense_2 (Dense)             (None, 512)               4719104   \n",
            "                                                                 \n",
            " dropout_3 (Dropout)         (None, 512)               0         \n",
            "                                                                 \n",
            " dense_3 (Dense)             (None, 10)                5130      \n",
            "                                                                 \n",
            "=================================================================\n",
            "Total params: 4,743,050\n",
            "Trainable params: 4,743,050\n",
            "Non-trainable params: 0\n",
            "_________________________________________________________________\n"
          ]
        }
      ]
    },
    {
      "cell_type": "code",
      "source": [
        "model.compile(optimizer='adam', loss='categorical_crossentropy', metrics=['accuracy'])"
      ],
      "metadata": {
        "id": "xCfSlRi3ARYm"
      },
      "execution_count": 30,
      "outputs": []
    },
    {
      "cell_type": "code",
      "source": [
        "model_path = 'best-fashion-mnist-cnn.h5'\n",
        "checkpoint = ModelCheckpoint(model_path, save_best_only=True, verbose=1)\n",
        "early_stop = EarlyStopping(patience=10)"
      ],
      "metadata": {
        "id": "oBBAnd3fBC2c"
      },
      "execution_count": 31,
      "outputs": []
    },
    {
      "cell_type": "code",
      "source": [
        "hist = model.fit(\n",
        "    X_train, Y_train, validation_split=0.2, batch_size=200, epochs=100,\n",
        "    callbacks=[checkpoint, early_stop], verbose=0\n",
        ")"
      ],
      "metadata": {
        "colab": {
          "base_uri": "https://localhost:8080/"
        },
        "id": "l0Sibc-OBXai",
        "outputId": "c20f7456-cfb0-4701-ff25-6d4946cc3d19"
      },
      "execution_count": 32,
      "outputs": [
        {
          "output_type": "stream",
          "name": "stdout",
          "text": [
            "\n",
            "Epoch 00001: val_loss improved from inf to 0.32508, saving model to best-fashion-mnist-cnn.h5\n",
            "\n",
            "Epoch 00002: val_loss improved from 0.32508 to 0.27483, saving model to best-fashion-mnist-cnn.h5\n",
            "\n",
            "Epoch 00003: val_loss improved from 0.27483 to 0.24025, saving model to best-fashion-mnist-cnn.h5\n",
            "\n",
            "Epoch 00004: val_loss improved from 0.24025 to 0.22936, saving model to best-fashion-mnist-cnn.h5\n",
            "\n",
            "Epoch 00005: val_loss improved from 0.22936 to 0.22805, saving model to best-fashion-mnist-cnn.h5\n",
            "\n",
            "Epoch 00006: val_loss improved from 0.22805 to 0.21436, saving model to best-fashion-mnist-cnn.h5\n",
            "\n",
            "Epoch 00007: val_loss improved from 0.21436 to 0.19987, saving model to best-fashion-mnist-cnn.h5\n",
            "\n",
            "Epoch 00008: val_loss did not improve from 0.19987\n",
            "\n",
            "Epoch 00009: val_loss improved from 0.19987 to 0.19894, saving model to best-fashion-mnist-cnn.h5\n",
            "\n",
            "Epoch 00010: val_loss did not improve from 0.19894\n",
            "\n",
            "Epoch 00011: val_loss did not improve from 0.19894\n",
            "\n",
            "Epoch 00012: val_loss did not improve from 0.19894\n",
            "\n",
            "Epoch 00013: val_loss did not improve from 0.19894\n",
            "\n",
            "Epoch 00014: val_loss did not improve from 0.19894\n",
            "\n",
            "Epoch 00015: val_loss did not improve from 0.19894\n",
            "\n",
            "Epoch 00016: val_loss did not improve from 0.19894\n",
            "\n",
            "Epoch 00017: val_loss did not improve from 0.19894\n",
            "\n",
            "Epoch 00018: val_loss did not improve from 0.19894\n",
            "\n",
            "Epoch 00019: val_loss did not improve from 0.19894\n"
          ]
        }
      ]
    },
    {
      "cell_type": "code",
      "source": [
        "best_model = load_model(model_path)\n",
        "best_model.evaluate(X_test, Y_test)"
      ],
      "metadata": {
        "colab": {
          "base_uri": "https://localhost:8080/"
        },
        "id": "zRLWU9T-BwPa",
        "outputId": "0ff7fa88-cea1-48da-8e0a-d1b90ed1079e"
      },
      "execution_count": 33,
      "outputs": [
        {
          "output_type": "stream",
          "name": "stdout",
          "text": [
            "313/313 [==============================] - 1s 3ms/step - loss: 0.2154 - accuracy: 0.9265\n"
          ]
        },
        {
          "output_type": "execute_result",
          "data": {
            "text/plain": [
              "[0.21538271009922028, 0.9265000224113464]"
            ]
          },
          "metadata": {},
          "execution_count": 33
        }
      ]
    },
    {
      "cell_type": "markdown",
      "source": [
        "- 학습과정 시각화"
      ],
      "metadata": {
        "id": "jx5xBuw0DOGn"
      }
    },
    {
      "cell_type": "code",
      "source": [
        "y_acc = hist.history['accuracy']\n",
        "y_vloss = hist.history['val_loss']\n",
        "xs = np.arange(1, len(y_acc)+1)"
      ],
      "metadata": {
        "id": "0DYHnB2sC2ZB"
      },
      "execution_count": 34,
      "outputs": []
    },
    {
      "cell_type": "code",
      "source": [
        "plt.figure(figsize=(12,8))\n",
        "plt.plot(xs, y_acc, 'o-', ms=3, label='train accuracy')\n",
        "plt.plot(xs, y_vloss, 'o-', ms=3, label='validation loss')\n",
        "plt.legend(), plt.grid(), plt.xlabel('Epoch')\n",
        "plt.show()"
      ],
      "metadata": {
        "colab": {
          "base_uri": "https://localhost:8080/",
          "height": 455
        },
        "id": "q5PnWyW5DXx4",
        "outputId": "a585a7cf-1689-4b7f-8728-cfac067a8540"
      },
      "execution_count": 35,
      "outputs": [
        {
          "output_type": "display_data",
          "data": {
            "image/png": "[encoded data removed]",
            "text/plain": [
              "<Figure size 864x576 with 1 Axes>"
            ]
          },
          "metadata": {
            "needs_background": "light"
          }
        }
      ]
    }
  ]
}