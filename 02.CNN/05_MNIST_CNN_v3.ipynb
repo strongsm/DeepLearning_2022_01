{
  "nbformat": 4,
  "nbformat_minor": 0,
  "metadata": {
    "colab": {
      "name": "05_MNIST_CNN_v3.ipynb",
      "provenance": [],
      "collapsed_sections": []
    },
    "kernelspec": {
      "name": "python3",
      "display_name": "Python 3"
    },
    "language_info": {
      "name": "python"
    },
    "accelerator": "GPU"
  },
  "cells": [
    {
      "cell_type": "markdown",
      "source": [
        "# MNIST 손글씨 - CNN v3\n",
        "- 2 Conv2D layers\n",
        "- 1 MaxPooling2D layer\n",
        "- 1 Dropout(0.25) layer\n",
        "- 1 Fully Connected Network layer\n",
        "- 1 Dropout(0.5) layer\n",
        "- 1 Output layer"
      ],
      "metadata": {
        "id": "acNNAYT0o03v"
      }
    },
    {
      "cell_type": "code",
      "execution_count": 11,
      "metadata": {
        "id": "rp1ZOa26oz0C"
      },
      "outputs": [],
      "source": [
        "import numpy as np\n",
        "import tensorflow as tf\n",
        "seed = 2022\n",
        "np.random.seed(seed)\n",
        "tf.random.set_seed(seed)"
      ]
    },
    {
      "cell_type": "markdown",
      "source": [
        "- 데이터 전처리"
      ],
      "metadata": {
        "id": "FlKFceeKpRdU"
      }
    },
    {
      "cell_type": "code",
      "source": [
        "from tensorflow.keras.datasets import mnist\n",
        "(X_train, y_train), (X_test, y_test) = mnist.load_data()"
      ],
      "metadata": {
        "id": "167BrQK9pP8n"
      },
      "execution_count": 12,
      "outputs": []
    },
    {
      "cell_type": "code",
      "source": [
        "# X data: 0~1 사이의 값, 3차원 --> 4차원\n",
        "X_train = X_train.reshape(-1,28,28,1) / 255.\n",
        "X_test = X_test.reshape(-1,28,28,1) / 255."
      ],
      "metadata": {
        "id": "c6hK-J_UpbLe"
      },
      "execution_count": 13,
      "outputs": []
    },
    {
      "cell_type": "code",
      "source": [
        "# One-hot encoding\n",
        "from tensorflow.keras.utils import to_categorical\n",
        "Y_train = to_categorical(y_train)\n",
        "Y_test = to_categorical(y_test)"
      ],
      "metadata": {
        "id": "B0ZaJeh3ppti"
      },
      "execution_count": 14,
      "outputs": []
    },
    {
      "cell_type": "markdown",
      "source": [
        "- 모델 정의, 설정, 학습, 평가"
      ],
      "metadata": {
        "id": "0AVcX5HbqDd2"
      }
    },
    {
      "cell_type": "code",
      "source": [
        "from tensorflow.keras.models import Sequential, load_model\n",
        "from tensorflow.keras.layers import Dense, Conv2D, Flatten, MaxPooling2D\n",
        "from tensorflow.keras.layers import Dropout\n",
        "from tensorflow.keras.callbacks import ModelCheckpoint, EarlyStopping"
      ],
      "metadata": {
        "id": "LMwLUe6eqAn2"
      },
      "execution_count": 15,
      "outputs": []
    },
    {
      "cell_type": "code",
      "source": [
        "model = Sequential([\n",
        "    Conv2D(32, kernel_size=(3,3), input_shape=(28,28,1), activation='relu'),\n",
        "    Conv2D(64, (3,3), activation='relu'),\n",
        "    MaxPooling2D(),             # MaxPooling2D(pool_size=(2,2))\n",
        "    Dropout(0.25),\n",
        "    Flatten(),\n",
        "    Dense(512, activation='relu'),\n",
        "    Dropout(0.5),\n",
        "    Dense(10, activation='softmax')         \n",
        "])\n",
        "model.summary()"
      ],
      "metadata": {
        "colab": {
          "base_uri": "https://localhost:8080/"
        },
        "id": "JNQuGNFbqhOB",
        "outputId": "ae6d3229-6bc0-46b7-a5d8-e48ccbb5382d"
      },
      "execution_count": 16,
      "outputs": [
        {
          "output_type": "stream",
          "name": "stdout",
          "text": [
            "Model: \"sequential_1\"\n",
            "_________________________________________________________________\n",
            " Layer (type)                Output Shape              Param #   \n",
            "=================================================================\n",
            " conv2d_2 (Conv2D)           (None, 26, 26, 32)        320       \n",
            "                                                                 \n",
            " conv2d_3 (Conv2D)           (None, 24, 24, 64)        18496     \n",
            "                                                                 \n",
            " max_pooling2d_1 (MaxPooling  (None, 12, 12, 64)       0         \n",
            " 2D)                                                             \n",
            "                                                                 \n",
            " dropout_2 (Dropout)         (None, 12, 12, 64)        0         \n",
            "                                                                 \n",
            " flatten_1 (Flatten)         (None, 9216)              0         \n",
            "                                                                 \n",
            " dense_2 (Dense)             (None, 512)               4719104   \n",
            "                                                                 \n",
            " dropout_3 (Dropout)         (None, 512)               0         \n",
            "                                                                 \n",
            " dense_3 (Dense)             (None, 10)                5130      \n",
            "                                                                 \n",
            "=================================================================\n",
            "Total params: 4,743,050\n",
            "Trainable params: 4,743,050\n",
            "Non-trainable params: 0\n",
            "_________________________________________________________________\n"
          ]
        }
      ]
    },
    {
      "cell_type": "code",
      "source": [
        "model.compile(optimizer='adam', loss='categorical_crossentropy', metrics=['accuracy'])"
      ],
      "metadata": {
        "id": "Tp9Zj-HXre5B"
      },
      "execution_count": 17,
      "outputs": []
    },
    {
      "cell_type": "code",
      "source": [
        "model_path = 'best-mnist-cnn-v3.h5'\n",
        "checkpoint = ModelCheckpoint(model_path, save_best_only=True, verbose=1)\n",
        "early_stop = EarlyStopping(patience=10)"
      ],
      "metadata": {
        "id": "XMDCWlyosn6z"
      },
      "execution_count": 18,
      "outputs": []
    },
    {
      "cell_type": "code",
      "source": [
        "hist = model.fit(X_train, Y_train, validation_split=0.2,\n",
        "                 epochs=100, batch_size=200, verbose=0,\n",
        "                 callbacks=[checkpoint, early_stop])"
      ],
      "metadata": {
        "colab": {
          "base_uri": "https://localhost:8080/"
        },
        "id": "MHAFTpQdtKrr",
        "outputId": "df6c48e6-e255-4ea5-f123-0c9dc07009ef"
      },
      "execution_count": 19,
      "outputs": [
        {
          "output_type": "stream",
          "name": "stdout",
          "text": [
            "\n",
            "Epoch 00001: val_loss improved from inf to 0.05702, saving model to best-mnist-cnn-v3.h5\n",
            "\n",
            "Epoch 00002: val_loss improved from 0.05702 to 0.04993, saving model to best-mnist-cnn-v3.h5\n",
            "\n",
            "Epoch 00003: val_loss improved from 0.04993 to 0.03852, saving model to best-mnist-cnn-v3.h5\n",
            "\n",
            "Epoch 00004: val_loss improved from 0.03852 to 0.03826, saving model to best-mnist-cnn-v3.h5\n",
            "\n",
            "Epoch 00005: val_loss did not improve from 0.03826\n",
            "\n",
            "Epoch 00006: val_loss improved from 0.03826 to 0.03490, saving model to best-mnist-cnn-v3.h5\n",
            "\n",
            "Epoch 00007: val_loss improved from 0.03490 to 0.03402, saving model to best-mnist-cnn-v3.h5\n",
            "\n",
            "Epoch 00008: val_loss did not improve from 0.03402\n",
            "\n",
            "Epoch 00009: val_loss did not improve from 0.03402\n",
            "\n",
            "Epoch 00010: val_loss improved from 0.03402 to 0.03359, saving model to best-mnist-cnn-v3.h5\n",
            "\n",
            "Epoch 00011: val_loss did not improve from 0.03359\n",
            "\n",
            "Epoch 00012: val_loss did not improve from 0.03359\n",
            "\n",
            "Epoch 00013: val_loss did not improve from 0.03359\n",
            "\n",
            "Epoch 00014: val_loss did not improve from 0.03359\n",
            "\n",
            "Epoch 00015: val_loss did not improve from 0.03359\n",
            "\n",
            "Epoch 00016: val_loss did not improve from 0.03359\n",
            "\n",
            "Epoch 00017: val_loss did not improve from 0.03359\n",
            "\n",
            "Epoch 00018: val_loss did not improve from 0.03359\n",
            "\n",
            "Epoch 00019: val_loss did not improve from 0.03359\n",
            "\n",
            "Epoch 00020: val_loss did not improve from 0.03359\n"
          ]
        }
      ]
    },
    {
      "cell_type": "code",
      "source": [
        "best_model = load_model(model_path)\n",
        "best_model.evaluate(X_test, Y_test)"
      ],
      "metadata": {
        "colab": {
          "base_uri": "https://localhost:8080/"
        },
        "id": "HeL1P4fMvVB_",
        "outputId": "03792a3f-704a-4d5b-8414-f23bff175328"
      },
      "execution_count": 20,
      "outputs": [
        {
          "output_type": "stream",
          "name": "stdout",
          "text": [
            "313/313 [==============================] - 1s 3ms/step - loss: 0.0276 - accuracy: 0.9923\n"
          ]
        },
        {
          "output_type": "execute_result",
          "data": {
            "text/plain": [
              "[0.027568841353058815, 0.9922999739646912]"
            ]
          },
          "metadata": {},
          "execution_count": 20
        }
      ]
    },
    {
      "cell_type": "markdown",
      "source": [
        "- 훈련과정 시각화"
      ],
      "metadata": {
        "id": "KXurx8OF8TcD"
      }
    },
    {
      "cell_type": "code",
      "source": [
        "y_acc = hist.history['accuracy']\n",
        "y_vloss = hist.history['val_loss']\n",
        "xs = np.arange(1, len(y_acc)+1)"
      ],
      "metadata": {
        "id": "sAU2shZBvboc"
      },
      "execution_count": 21,
      "outputs": []
    },
    {
      "cell_type": "code",
      "source": [
        "import matplotlib.pyplot as plt\n",
        "\n",
        "plt.figure(figsize=(12,8))\n",
        "plt.plot(xs, y_acc, 'o-', ms=3, label='train accuracy')\n",
        "plt.plot(xs, y_vloss, 'o-', ms=3, label='validation loss')\n",
        "plt.legend()\n",
        "plt.grid()\n",
        "plt.xlabel('Epoch')\n",
        "plt.show()"
      ],
      "metadata": {
        "colab": {
          "base_uri": "https://localhost:8080/",
          "height": 497
        },
        "id": "u-tTbCOr8maA",
        "outputId": "6dd0a408-0c73-4f7a-bc9c-14bee5ee1a96"
      },
      "execution_count": 23,
      "outputs": [
        {
          "output_type": "display_data",
          "data": {
            "image/png": "[encoded data removed]",
            "text/plain": [
              "<Figure size 864x576 with 1 Axes>"
            ]
          },
          "metadata": {
            "needs_background": "light"
          }
        }
      ]
    },
    {
      "cell_type": "code",
      "source": [
        ""
      ],
      "metadata": {
        "id": "jp4h7Hyx9RBr"
      },
      "execution_count": null,
      "outputs": []
    }
  ]
}