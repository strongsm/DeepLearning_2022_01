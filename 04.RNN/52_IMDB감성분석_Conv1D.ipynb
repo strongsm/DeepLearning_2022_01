{
  "cells": [
    {
      "cell_type": "markdown",
      "metadata": {
        "id": "grY-YQ-p9uWU"
      },
      "source": [
        "# IMDB 영화 리뷰 감성 분석 - LSTM"
      ]
    },
    {
      "cell_type": "code",
      "execution_count": 1,
      "metadata": {
        "id": "6nlJHLzm9t5a"
      },
      "outputs": [],
      "source": [
        "import numpy as np\n",
        "import seaborn as sns\n",
        "import matplotlib.pyplot as plt\n",
        "from tensorflow.keras.datasets import imdb\n",
        "import warnings\n",
        "warnings.filterwarnings('ignore')"
      ]
    },
    {
      "cell_type": "markdown",
      "metadata": {
        "id": "Q9u7AlxH_rzV"
      },
      "source": [
        "### Conv1D로 IMDB 리뷰 감성 분석\n",
        "- 단어 빈도수 : 10,000 (총 88,584)\n",
        "- 문장의 단어수 : 500 (최대 2,494)\n",
        "- test data 중 40%(10,000개)는 검증용으로"
      ]
    },
    {
      "cell_type": "code",
      "execution_count": 2,
      "metadata": {
        "id": "YSRqUjIzBJSY"
      },
      "outputs": [],
      "source": [
        "import tensorflow as tf\n",
        "seed = 2022\n",
        "np.random.seed(seed)\n",
        "tf.random.set_seed(seed)"
      ]
    },
    {
      "cell_type": "code",
      "execution_count": 3,
      "metadata": {
        "id": "Dz3pQ95UBNP9"
      },
      "outputs": [],
      "source": [
        "from tensorflow.keras.models import Sequential\n",
        "from tensorflow.keras.layers import Dense, Embedding, Dropout\n",
        "from tensorflow.keras.layers import Conv1D, MaxPooling1D, GlobalMaxPooling1D\n",
        "from tensorflow.keras.preprocessing.sequence import pad_sequences\n",
        "from tensorflow.keras.callbacks import EarlyStopping, ModelCheckpoint\n",
        "from tensorflow.keras.models import load_model"
      ]
    },
    {
      "cell_type": "code",
      "execution_count": 4,
      "metadata": {
        "colab": {
          "base_uri": "https://localhost:8080/"
        },
        "id": "g7Sbc9nn--6g",
        "outputId": "42d0a09b-0804-4de9-89a2-0394401cfaaf"
      },
      "outputs": [
        {
          "output_type": "stream",
          "name": "stdout",
          "text": [
            "Downloading data from https://storage.googleapis.com/tensorflow/tf-keras-datasets/imdb.npz\n",
            "17465344/17464789 [==============================] - 0s 0us/step\n",
            "17473536/17464789 [==============================] - 0s 0us/step\n"
          ]
        },
        {
          "output_type": "execute_result",
          "data": {
            "text/plain": [
              "((25000,), (25000,), (25000,))"
            ]
          },
          "metadata": {},
          "execution_count": 4
        }
      ],
      "source": [
        "(X_train, y_train), (X_test, y_test) = imdb.load_data(num_words=10000)\n",
        "X_train.shape, X_test.shape, y_train.shape"
      ]
    },
    {
      "cell_type": "code",
      "execution_count": 5,
      "metadata": {
        "colab": {
          "base_uri": "https://localhost:8080/"
        },
        "id": "Z7Z28Pkj--4N",
        "outputId": "23305dbc-9b4d-4a12-a5ec-b0fbb7dd2253"
      },
      "outputs": [
        {
          "output_type": "execute_result",
          "data": {
            "text/plain": [
              "((25000, 500), (25000, 500))"
            ]
          },
          "metadata": {},
          "execution_count": 5
        }
      ],
      "source": [
        "max_len = 500\n",
        "X_train = pad_sequences(X_train, maxlen=max_len)\n",
        "X_test = pad_sequences(X_test, maxlen=max_len)\n",
        "X_train.shape, X_test.shape"
      ]
    },
    {
      "cell_type": "code",
      "execution_count": 6,
      "metadata": {
        "colab": {
          "base_uri": "https://localhost:8080/"
        },
        "id": "-xnIvlJ6DA56",
        "outputId": "c38d690d-7fe0-4681-b3f5-f4df18939011"
      },
      "outputs": [
        {
          "output_type": "execute_result",
          "data": {
            "text/plain": [
              "((15000, 500), (10000, 500), (15000,), (10000,))"
            ]
          },
          "metadata": {},
          "execution_count": 6
        }
      ],
      "source": [
        "from sklearn.model_selection import train_test_split\n",
        "X_test, X_valid, y_test, y_valid = train_test_split(\n",
        "    X_test, y_test, stratify=y_test, test_size=0.4, random_state=seed\n",
        ")\n",
        "X_test.shape, X_valid.shape, y_test.shape, y_valid.shape"
      ]
    },
    {
      "cell_type": "markdown",
      "metadata": {
        "id": "VneFbZ2kBwgv"
      },
      "source": [
        "- Case 1) Conv1D x 2, MaxPooling1D x 2, Dropout, GlobalMaxPooling1D\n",
        "    - embedding dim : 100"
      ]
    },
    {
      "cell_type": "code",
      "execution_count": 7,
      "metadata": {
        "colab": {
          "base_uri": "https://localhost:8080/"
        },
        "id": "3Npw2zeFBveq",
        "outputId": "461cc887-6491-4cef-c28a-e426ee143e97"
      },
      "outputs": [
        {
          "output_type": "stream",
          "name": "stdout",
          "text": [
            "Model: \"sequential\"\n",
            "_________________________________________________________________\n",
            " Layer (type)                Output Shape              Param #   \n",
            "=================================================================\n",
            " embedding (Embedding)       (None, 500, 100)          1000000   \n",
            "                                                                 \n",
            " dropout (Dropout)           (None, 500, 100)          0         \n",
            "                                                                 \n",
            " conv1d (Conv1D)             (None, 494, 64)           44864     \n",
            "                                                                 \n",
            " max_pooling1d (MaxPooling1D  (None, 70, 64)           0         \n",
            " )                                                               \n",
            "                                                                 \n",
            " conv1d_1 (Conv1D)           (None, 66, 64)            20544     \n",
            "                                                                 \n",
            " max_pooling1d_1 (MaxPooling  (None, 13, 64)           0         \n",
            " 1D)                                                             \n",
            "                                                                 \n",
            " global_max_pooling1d (Globa  (None, 64)               0         \n",
            " lMaxPooling1D)                                                  \n",
            "                                                                 \n",
            " dense (Dense)               (None, 1)                 65        \n",
            "                                                                 \n",
            "=================================================================\n",
            "Total params: 1,065,473\n",
            "Trainable params: 1,065,473\n",
            "Non-trainable params: 0\n",
            "_________________________________________________________________\n"
          ]
        }
      ],
      "source": [
        "model1 = Sequential([\n",
        "    Embedding(10000, 100, input_length=max_len),\n",
        "    Dropout(0.5),\n",
        "    Conv1D(64, 7, activation='relu'),\n",
        "    MaxPooling1D(7),\n",
        "    Conv1D(64, 5, activation='relu'),\n",
        "    MaxPooling1D(5),\n",
        "    GlobalMaxPooling1D(),\n",
        "    Dense(1, activation='sigmoid')\n",
        "])\n",
        "model1.summary()"
      ]
    },
    {
      "cell_type": "code",
      "execution_count": 8,
      "metadata": {
        "id": "NiaLh5EOCRhh"
      },
      "outputs": [],
      "source": [
        "model1.compile('adam', 'categorical_crossentropy', metrics=['accuracy'])\n",
        "\n",
        "model_path = 'best-imdb-conv1d.h5'\n",
        "mc = ModelCheckpoint(model_path, save_best_only=True, verbose=1)\n",
        "es = EarlyStopping(patience=5)"
      ]
    },
    {
      "cell_type": "code",
      "execution_count": 9,
      "metadata": {
        "colab": {
          "base_uri": "https://localhost:8080/"
        },
        "id": "uivlAzNcCRew",
        "outputId": "81331b46-bace-4df2-c809-d3a80ba60f61"
      },
      "outputs": [
        {
          "output_type": "stream",
          "name": "stdout",
          "text": [
            "Epoch 1/30\n",
            "391/391 [==============================] - ETA: 0s - loss: 0.0000e+00 - accuracy: 0.4999\n",
            "Epoch 00001: val_loss improved from inf to 0.00000, saving model to best-imdb-conv1d.h5\n",
            "391/391 [==============================] - 23s 23ms/step - loss: 0.0000e+00 - accuracy: 0.4999 - val_loss: 0.0000e+00 - val_accuracy: 0.5000\n",
            "Epoch 2/30\n",
            "388/391 [============================>.] - ETA: 0s - loss: 0.0000e+00 - accuracy: 0.4995\n",
            "Epoch 00002: val_loss did not improve from 0.00000\n",
            "391/391 [==============================] - 9s 22ms/step - loss: 0.0000e+00 - accuracy: 0.5000 - val_loss: 0.0000e+00 - val_accuracy: 0.5000\n",
            "Epoch 3/30\n",
            "391/391 [==============================] - ETA: 0s - loss: 0.0000e+00 - accuracy: 0.5000\n",
            "Epoch 00003: val_loss did not improve from 0.00000\n",
            "391/391 [==============================] - 8s 21ms/step - loss: 0.0000e+00 - accuracy: 0.5000 - val_loss: 0.0000e+00 - val_accuracy: 0.5000\n",
            "Epoch 4/30\n",
            "391/391 [==============================] - ETA: 0s - loss: 0.0000e+00 - accuracy: 0.5000\n",
            "Epoch 00004: val_loss did not improve from 0.00000\n",
            "391/391 [==============================] - 8s 21ms/step - loss: 0.0000e+00 - accuracy: 0.5000 - val_loss: 0.0000e+00 - val_accuracy: 0.5000\n",
            "Epoch 5/30\n",
            "391/391 [==============================] - ETA: 0s - loss: 0.0000e+00 - accuracy: 0.5000\n",
            "Epoch 00005: val_loss did not improve from 0.00000\n",
            "391/391 [==============================] - 9s 22ms/step - loss: 0.0000e+00 - accuracy: 0.5000 - val_loss: 0.0000e+00 - val_accuracy: 0.5000\n",
            "Epoch 6/30\n",
            "391/391 [==============================] - ETA: 0s - loss: 0.0000e+00 - accuracy: 0.5000\n",
            "Epoch 00006: val_loss did not improve from 0.00000\n",
            "391/391 [==============================] - 8s 21ms/step - loss: 0.0000e+00 - accuracy: 0.5000 - val_loss: 0.0000e+00 - val_accuracy: 0.5000\n"
          ]
        }
      ],
      "source": [
        "hist1 = model1.fit(\n",
        "    X_train, y_train, epochs=30, batch_size=64, \n",
        "    validation_data=[X_valid, y_valid], \n",
        "    callbacks=[es, mc]\n",
        ")"
      ]
    },
    {
      "cell_type": "code",
      "execution_count": 10,
      "metadata": {
        "colab": {
          "base_uri": "https://localhost:8080/"
        },
        "id": "ncbEJkO9CRbR",
        "outputId": "3e27b810-ee42-450a-ee6f-caf45510b5cb"
      },
      "outputs": [
        {
          "output_type": "stream",
          "name": "stdout",
          "text": [
            "469/469 [==============================] - 3s 6ms/step - loss: 0.0000e+00 - accuracy: 0.5000\n"
          ]
        },
        {
          "output_type": "execute_result",
          "data": {
            "text/plain": [
              "[0.0, 0.5]"
            ]
          },
          "metadata": {},
          "execution_count": 10
        }
      ],
      "source": [
        "best_model = load_model(model_path)\n",
        "best_model.evaluate(X_test, y_test)"
      ]
    },
    {
      "cell_type": "markdown",
      "source": [
        "- Case 2) Conv1D + LSTM"
      ],
      "metadata": {
        "id": "dsJXAzm4oIzM"
      }
    },
    {
      "cell_type": "code",
      "source": [
        "from tensorflow.keras.layers import LSTM"
      ],
      "metadata": {
        "id": "xpo5vsyfoLyc"
      },
      "execution_count": 11,
      "outputs": []
    },
    {
      "cell_type": "code",
      "source": [
        "model2 = Sequential([\n",
        "    Embedding(10000, 100, input_length=max_len),\n",
        "    Dropout(0.5),\n",
        "    Conv1D(64, 5, activation='relu'),\n",
        "    MaxPooling1D(4),\n",
        "    LSTM(100),\n",
        "    Dense(1, activation='sigmoid')\n",
        "])\n",
        "model2.summary()"
      ],
      "metadata": {
        "colab": {
          "base_uri": "https://localhost:8080/"
        },
        "id": "2JYC-3vboT8U",
        "outputId": "5972ce7f-9711-4e1e-ea15-938f9d27df37"
      },
      "execution_count": 12,
      "outputs": [
        {
          "output_type": "stream",
          "name": "stdout",
          "text": [
            "Model: \"sequential_1\"\n",
            "_________________________________________________________________\n",
            " Layer (type)                Output Shape              Param #   \n",
            "=================================================================\n",
            " embedding_1 (Embedding)     (None, 500, 100)          1000000   \n",
            "                                                                 \n",
            " dropout_1 (Dropout)         (None, 500, 100)          0         \n",
            "                                                                 \n",
            " conv1d_2 (Conv1D)           (None, 496, 64)           32064     \n",
            "                                                                 \n",
            " max_pooling1d_2 (MaxPooling  (None, 124, 64)          0         \n",
            " 1D)                                                             \n",
            "                                                                 \n",
            " lstm (LSTM)                 (None, 100)               66000     \n",
            "                                                                 \n",
            " dense_1 (Dense)             (None, 1)                 101       \n",
            "                                                                 \n",
            "=================================================================\n",
            "Total params: 1,098,165\n",
            "Trainable params: 1,098,165\n",
            "Non-trainable params: 0\n",
            "_________________________________________________________________\n"
          ]
        }
      ]
    },
    {
      "cell_type": "code",
      "source": [
        "model2.compile('adam', 'categorical_crossentropy', metrics=['accuracy'])\n",
        "\n",
        "model_path = 'best-imdb-conv1d.h5'\n",
        "mc = ModelCheckpoint(model_path, save_best_only=True, verbose=1)\n",
        "es = EarlyStopping(patience=5)"
      ],
      "metadata": {
        "id": "RrEW1O0XokGb"
      },
      "execution_count": 13,
      "outputs": []
    },
    {
      "cell_type": "code",
      "source": [
        "hist2 = model2.fit(\n",
        "    X_train, y_train, epochs=30, batch_size=64, \n",
        "    validation_data=[X_valid, y_valid], \n",
        "    callbacks=[es, mc]\n",
        ")"
      ],
      "metadata": {
        "colab": {
          "base_uri": "https://localhost:8080/"
        },
        "id": "itQU6buGo9ss",
        "outputId": "20ddaaf9-2028-42ed-8550-6552e9cae30d"
      },
      "execution_count": 14,
      "outputs": [
        {
          "output_type": "stream",
          "name": "stdout",
          "text": [
            "Epoch 1/30\n",
            "391/391 [==============================] - ETA: 0s - loss: 0.0000e+00 - accuracy: 0.5000\n",
            "Epoch 00001: val_loss improved from inf to 0.00000, saving model to best-imdb-conv1d.h5\n",
            "391/391 [==============================] - 19s 42ms/step - loss: 0.0000e+00 - accuracy: 0.5000 - val_loss: 0.0000e+00 - val_accuracy: 0.5000\n",
            "Epoch 2/30\n",
            "390/391 [============================>.] - ETA: 0s - loss: 0.0000e+00 - accuracy: 0.4997\n",
            "Epoch 00002: val_loss did not improve from 0.00000\n",
            "391/391 [==============================] - 17s 44ms/step - loss: 0.0000e+00 - accuracy: 0.5000 - val_loss: 0.0000e+00 - val_accuracy: 0.5000\n",
            "Epoch 3/30\n",
            "391/391 [==============================] - ETA: 0s - loss: 0.0000e+00 - accuracy: 0.5000\n",
            "Epoch 00003: val_loss did not improve from 0.00000\n",
            "391/391 [==============================] - 16s 42ms/step - loss: 0.0000e+00 - accuracy: 0.5000 - val_loss: 0.0000e+00 - val_accuracy: 0.5000\n",
            "Epoch 4/30\n",
            "391/391 [==============================] - ETA: 0s - loss: 0.0000e+00 - accuracy: 0.5000\n",
            "Epoch 00004: val_loss did not improve from 0.00000\n",
            "391/391 [==============================] - 16s 42ms/step - loss: 0.0000e+00 - accuracy: 0.5000 - val_loss: 0.0000e+00 - val_accuracy: 0.5000\n",
            "Epoch 5/30\n",
            "390/391 [============================>.] - ETA: 0s - loss: 0.0000e+00 - accuracy: 0.5000\n",
            "Epoch 00005: val_loss did not improve from 0.00000\n",
            "391/391 [==============================] - 17s 42ms/step - loss: 0.0000e+00 - accuracy: 0.5000 - val_loss: 0.0000e+00 - val_accuracy: 0.5000\n",
            "Epoch 6/30\n",
            "390/391 [============================>.] - ETA: 0s - loss: 0.0000e+00 - accuracy: 0.5000\n",
            "Epoch 00006: val_loss did not improve from 0.00000\n",
            "391/391 [==============================] - 17s 42ms/step - loss: 0.0000e+00 - accuracy: 0.5000 - val_loss: 0.0000e+00 - val_accuracy: 0.5000\n"
          ]
        }
      ]
    },
    {
      "cell_type": "code",
      "source": [
        "best_model = load_model(model_path)\n",
        "best_model.evaluate(X_test, y_test)"
      ],
      "metadata": {
        "colab": {
          "base_uri": "https://localhost:8080/"
        },
        "id": "QTif2eCTo9mt",
        "outputId": "0e097986-54b9-42b9-f6a1-0054f826940c"
      },
      "execution_count": 15,
      "outputs": [
        {
          "output_type": "stream",
          "name": "stdout",
          "text": [
            "469/469 [==============================] - 7s 14ms/step - loss: 0.0000e+00 - accuracy: 0.5000\n"
          ]
        },
        {
          "output_type": "execute_result",
          "data": {
            "text/plain": [
              "[0.0, 0.5]"
            ]
          },
          "metadata": {},
          "execution_count": 15
        }
      ]
    },
    {
      "cell_type": "markdown",
      "source": [
        "- Case 3) Conv1D + Dense"
      ],
      "metadata": {
        "id": "SaedTrEwpiZg"
      }
    },
    {
      "cell_type": "code",
      "source": [
        "model3 = Sequential([\n",
        "    Embedding(10000, 100, input_length=max_len),\n",
        "    Dropout(0.5),\n",
        "    Conv1D(64, 5, activation='relu'),\n",
        "    MaxPooling1D(4),\n",
        "    GlobalMaxPooling1D(),\n",
        "    Dense(100, activation='relu'),\n",
        "    Dense(1, activation='sigmoid')\n",
        "])\n",
        "model3.summary()"
      ],
      "metadata": {
        "colab": {
          "base_uri": "https://localhost:8080/"
        },
        "id": "QprTrQeto9Yo",
        "outputId": "b6d765dc-a9c1-4793-e7cc-397b11963271"
      },
      "execution_count": 16,
      "outputs": [
        {
          "output_type": "stream",
          "name": "stdout",
          "text": [
            "Model: \"sequential_2\"\n",
            "_________________________________________________________________\n",
            " Layer (type)                Output Shape              Param #   \n",
            "=================================================================\n",
            " embedding_2 (Embedding)     (None, 500, 100)          1000000   \n",
            "                                                                 \n",
            " dropout_2 (Dropout)         (None, 500, 100)          0         \n",
            "                                                                 \n",
            " conv1d_3 (Conv1D)           (None, 496, 64)           32064     \n",
            "                                                                 \n",
            " max_pooling1d_3 (MaxPooling  (None, 124, 64)          0         \n",
            " 1D)                                                             \n",
            "                                                                 \n",
            " global_max_pooling1d_1 (Glo  (None, 64)               0         \n",
            " balMaxPooling1D)                                                \n",
            "                                                                 \n",
            " dense_2 (Dense)             (None, 100)               6500      \n",
            "                                                                 \n",
            " dense_3 (Dense)             (None, 1)                 101       \n",
            "                                                                 \n",
            "=================================================================\n",
            "Total params: 1,038,665\n",
            "Trainable params: 1,038,665\n",
            "Non-trainable params: 0\n",
            "_________________________________________________________________\n"
          ]
        }
      ]
    },
    {
      "cell_type": "code",
      "source": [
        "model3.compile('adam', 'categorical_crossentropy', metrics=['accuracy'])\n",
        "\n",
        "model_path = 'best-imdb-conv1d.h5'\n",
        "mc = ModelCheckpoint(model_path, save_best_only=True, verbose=1)\n",
        "es = EarlyStopping(patience=5)"
      ],
      "metadata": {
        "id": "fH11Vd-lqXrr"
      },
      "execution_count": 17,
      "outputs": []
    },
    {
      "cell_type": "code",
      "source": [
        "hist3 = model3.fit(\n",
        "    X_train, y_train, epochs=30, batch_size=128, \n",
        "    validation_data=[X_valid, y_valid], \n",
        "    callbacks=[es, mc]\n",
        ")"
      ],
      "metadata": {
        "colab": {
          "base_uri": "https://localhost:8080/"
        },
        "id": "DBrGP01eph0v",
        "outputId": "52c4f770-6a9f-4d1e-923e-1f36bce428f0"
      },
      "execution_count": 18,
      "outputs": [
        {
          "output_type": "stream",
          "name": "stdout",
          "text": [
            "Epoch 1/30\n",
            "194/196 [============================>.] - ETA: 0s - loss: 0.0000e+00 - accuracy: 0.4992\n",
            "Epoch 00001: val_loss improved from inf to 0.00000, saving model to best-imdb-conv1d.h5\n",
            "196/196 [==============================] - 7s 28ms/step - loss: 0.0000e+00 - accuracy: 0.4997 - val_loss: 0.0000e+00 - val_accuracy: 0.5000\n",
            "Epoch 2/30\n",
            "196/196 [==============================] - ETA: 0s - loss: 0.0000e+00 - accuracy: 0.5000\n",
            "Epoch 00002: val_loss did not improve from 0.00000\n",
            "196/196 [==============================] - 5s 25ms/step - loss: 0.0000e+00 - accuracy: 0.5000 - val_loss: 0.0000e+00 - val_accuracy: 0.5000\n",
            "Epoch 3/30\n",
            "195/196 [============================>.] - ETA: 0s - loss: 0.0000e+00 - accuracy: 0.5001\n",
            "Epoch 00003: val_loss did not improve from 0.00000\n",
            "196/196 [==============================] - 5s 25ms/step - loss: 0.0000e+00 - accuracy: 0.5000 - val_loss: 0.0000e+00 - val_accuracy: 0.5000\n",
            "Epoch 4/30\n",
            "196/196 [==============================] - ETA: 0s - loss: 0.0000e+00 - accuracy: 0.5000\n",
            "Epoch 00004: val_loss did not improve from 0.00000\n",
            "196/196 [==============================] - 5s 25ms/step - loss: 0.0000e+00 - accuracy: 0.5000 - val_loss: 0.0000e+00 - val_accuracy: 0.5000\n",
            "Epoch 5/30\n",
            "196/196 [==============================] - ETA: 0s - loss: 0.0000e+00 - accuracy: 0.5000\n",
            "Epoch 00005: val_loss did not improve from 0.00000\n",
            "196/196 [==============================] - 5s 25ms/step - loss: 0.0000e+00 - accuracy: 0.5000 - val_loss: 0.0000e+00 - val_accuracy: 0.5000\n",
            "Epoch 6/30\n",
            "196/196 [==============================] - ETA: 0s - loss: 0.0000e+00 - accuracy: 0.5000\n",
            "Epoch 00006: val_loss did not improve from 0.00000\n",
            "196/196 [==============================] - 5s 24ms/step - loss: 0.0000e+00 - accuracy: 0.5000 - val_loss: 0.0000e+00 - val_accuracy: 0.5000\n"
          ]
        }
      ]
    },
    {
      "cell_type": "code",
      "source": [
        "best_model = load_model(model_path)\n",
        "best_model.evaluate(X_test, y_test)"
      ],
      "metadata": {
        "colab": {
          "base_uri": "https://localhost:8080/"
        },
        "id": "8yPnT8wMqGZU",
        "outputId": "4547bc0d-1d63-4e03-e2ab-c92ed1982a97"
      },
      "execution_count": 19,
      "outputs": [
        {
          "output_type": "stream",
          "name": "stdout",
          "text": [
            "469/469 [==============================] - 3s 5ms/step - loss: 0.0000e+00 - accuracy: 0.5000\n"
          ]
        },
        {
          "output_type": "execute_result",
          "data": {
            "text/plain": [
              "[0.0, 0.5]"
            ]
          },
          "metadata": {},
          "execution_count": 19
        }
      ]
    },
    {
      "cell_type": "code",
      "source": [
        ""
      ],
      "metadata": {
        "id": "7u4ToulGqGUZ"
      },
      "execution_count": null,
      "outputs": []
    }
  ],
  "metadata": {
    "accelerator": "GPU",
    "colab": {
      "name": "52.IMDB감성분석-Conv1D.ipynb",
      "provenance": [],
      "collapsed_sections": []
    },
    "kernelspec": {
      "display_name": "Python 3",
      "name": "python3"
    },
    "language_info": {
      "name": "python"
    }
  },
  "nbformat": 4,
  "nbformat_minor": 0
}